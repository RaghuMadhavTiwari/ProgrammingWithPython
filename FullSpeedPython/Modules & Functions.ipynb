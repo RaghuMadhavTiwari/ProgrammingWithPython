{
 "cells": [
  {
   "cell_type": "markdown",
   "id": "22b15e9d",
   "metadata": {},
   "source": [
    "### Modules and Functions\n",
    "#### Module#\n",
    "A function is a block of code that is used to perform a single action. A module is a Python file containing a set of functions and variables of all types (arrays, dictionaries, objects, etc.) that you want to use in your application.\n",
    "\n",
    "Module Creation#\n",
    "To create a module, create a python file with a .py extension.\n",
    "\n",
    "Use a Module#\n",
    "Modules created with a .py extension can be used with an import statement.\n",
    "\n",
    "#### Functions\n",
    "A function is a block of code that contains a sequence of instructions that are executed when the function is invoked. Data passed in the functions are known as function parameters."
   ]
  },
  {
   "cell_type": "markdown",
   "id": "d1187a3f",
   "metadata": {},
   "source": [
    "Challenge 1: Greatest Common Divisor\n",
    "\n",
    "Problem Statement#\n",
    "Write a findGCD function that takes in two numbers as input a and b and finds the greatest common divisor of the two.\n",
    "\n",
    "Input#\n",
    "Two numbers\n",
    "\n",
    "Output#\n",
    "GCD of numbers\n",
    "\n",
    "Sample Input#\n",
    "a = 8, b = 12\n",
    "\n",
    "Sample Output#\n",
    "4"
   ]
  },
  {
   "cell_type": "code",
   "execution_count": 1,
   "id": "4d7dcba3",
   "metadata": {},
   "outputs": [
    {
     "data": {
      "text/plain": [
       "4"
      ]
     },
     "execution_count": 1,
     "metadata": {},
     "output_type": "execute_result"
    }
   ],
   "source": [
    "import math \n",
    "def findGCD(a, b):\n",
    "    return math.gcd(a,b)\n",
    "\n",
    "findGCD(8,12)"
   ]
  },
  {
   "cell_type": "markdown",
   "id": "44b07d20",
   "metadata": {},
   "source": [
    "Challenge 2: Calculate Sine, Cosine, and Tangent of User Input\n",
    "\n",
    "Problem Statement#\n",
    "Use the calculateSinCosTan() function; it takes a number x as a parameter and shows the result of the sine, cosine, and tangent of the number.\n",
    "\n",
    "Input#\n",
    "A number\n",
    "\n",
    "Output#\n",
    "Calculate the sine, cosine, and tangent of that number\n",
    "\n",
    "Sample Input#\n",
    "0\n",
    "\n",
    "Sample Output#\n",
    "[0, 1, 0]"
   ]
  },
  {
   "cell_type": "code",
   "execution_count": 2,
   "id": "d28cb652",
   "metadata": {},
   "outputs": [
    {
     "data": {
      "text/plain": [
       "[0.0, 1.0, 0.0]"
      ]
     },
     "execution_count": 2,
     "metadata": {},
     "output_type": "execute_result"
    }
   ],
   "source": [
    "def calculateSinCosTan(x):\n",
    "    sine = math.sin(x)\n",
    "    cos = math.cos(x)\n",
    "    tan = math.tan(x)\n",
    "    return [sine, cos, tan]\n",
    "calculateSinCosTan(0)"
   ]
  },
  {
   "cell_type": "markdown",
   "id": "2f5870dd",
   "metadata": {},
   "source": [
    "Challenge 3: Compute & Return Maximum\n",
    "\n",
    "Problem Statement#\n",
    "Implement the findMaximum function that receives two numbers as arguments x and y and returns the maximum of the numbers.\n",
    "\n",
    "Input#\n",
    "Two numbers x and y\n",
    "\n",
    "Output#\n",
    "The maximum of two numbers x and y\n",
    "\n",
    "Sample Input#\n",
    "x = 2, y = 3\n",
    "\n",
    "Sample Output#\n",
    "3"
   ]
  },
  {
   "cell_type": "code",
   "execution_count": 3,
   "id": "0eb20ede",
   "metadata": {},
   "outputs": [
    {
     "data": {
      "text/plain": [
       "4"
      ]
     },
     "execution_count": 3,
     "metadata": {},
     "output_type": "execute_result"
    }
   ],
   "source": [
    "def findMaximum(x, y):\n",
    "    max_of_2=0\n",
    "    if x>y:\n",
    "        max_of_2=x\n",
    "    else:\n",
    "        max_of_2=y\n",
    "    return max_of_2\n",
    "        \n",
    "findMaximum(4,1)"
   ]
  },
  {
   "cell_type": "code",
   "execution_count": 4,
   "id": "024932be",
   "metadata": {},
   "outputs": [
    {
     "data": {
      "text/plain": [
       "4"
      ]
     },
     "execution_count": 4,
     "metadata": {},
     "output_type": "execute_result"
    }
   ],
   "source": [
    "#Alter\n",
    "def findMaximum_(x, y):\n",
    "    return max(x,y)\n",
    "findMaximum_(4,1)"
   ]
  },
  {
   "cell_type": "markdown",
   "id": "8c2decc2",
   "metadata": {},
   "source": [
    "Challenge 4: Check If a Number Is Divisible by Another\n",
    "\n",
    "Problem Statement#\n",
    "Implement a function named isDivisible that receives two parameters (named x and y) and only returns true if “x” can be divided by “y”(and false otherwise).\n",
    "\n",
    "A number is divisible by another when the remainder of the division is zero. Use the modulo operator (\"%\").\n",
    "\n",
    "Input#\n",
    "Two numbers x and y\n",
    "\n",
    "Output#\n",
    "Returns true if x is divisible by y and false otherwise\n",
    "\n",
    "Sample Input#\n",
    "x = 4, y = 2\n",
    "\n",
    "Sample Output#\n",
    "True"
   ]
  },
  {
   "cell_type": "code",
   "execution_count": 5,
   "id": "0ec20f31",
   "metadata": {},
   "outputs": [
    {
     "data": {
      "text/plain": [
       "True"
      ]
     },
     "execution_count": 5,
     "metadata": {},
     "output_type": "execute_result"
    }
   ],
   "source": [
    "def isDivisble(x, y):\n",
    "    return x%y==0 \n",
    "\n",
    "isDivisble(100,4)"
   ]
  },
  {
   "cell_type": "markdown",
   "id": "6fef7368",
   "metadata": {},
   "source": [
    "### Recursion\n",
    "Recursion is when a function calls itself again and again until it reaches the base condition. There are two parts of recursion: base condition and recursive function."
   ]
  },
  {
   "cell_type": "markdown",
   "id": "8cbc9fff",
   "metadata": {},
   "source": [
    "Challenge 5: Compute nth Fibonacci Number\n",
    "Problem Statement#\n",
    "Implement the Fibonacci function that takes a number n and calculates the nth Fibonacci.\n",
    "\n",
    "The Fibonacci Sequence is the series of numbers: 0, 1, 1, 2, 3, 5, 8, 13, 21, 34, … The next number is found by adding up the previous two consecutive numbers.\n",
    "\n",
    "Input#\n",
    "An integer\n",
    "\n",
    "Output#\n",
    "nth fibonacci term\n",
    "\n",
    "Sample Input#\n",
    "7\n",
    "\n",
    "Sample Output#\n",
    "8"
   ]
  },
  {
   "cell_type": "code",
   "execution_count": 6,
   "id": "9ca30db5",
   "metadata": {},
   "outputs": [
    {
     "data": {
      "text/plain": [
       "5"
      ]
     },
     "execution_count": 6,
     "metadata": {},
     "output_type": "execute_result"
    }
   ],
   "source": [
    "def fibonacci(n):\n",
    "        if n==0:\n",
    "            return 0\n",
    "        elif n==1:\n",
    "            return 1\n",
    "        else:\n",
    "            return fibonacci(n-2)+fibonacci(n-1)\n",
    "fibonacci(5)"
   ]
  },
  {
   "cell_type": "markdown",
   "id": "3f9654c8",
   "metadata": {},
   "source": [
    "Challenge 6: Compute Sum of First 'n' Natural Numbers\n",
    "\n",
    "Problem Statement#\n",
    "Implement a sum_N_Numbers recursive function to compute the sum of the n natural numbers (where (n) is a function parameter). Start by thinking about the base case (the sum of the first 1 integers is?) and then think about the recursive case.\n",
    "\n",
    "Note: Natural Numbers start from 1, i.e., 1, 2, 3, 4, 5, …\n",
    "\n",
    "Input#\n",
    "A natural number n\n",
    "\n",
    "Output#\n",
    "The sum of all numbers from 1 upto that input natural number n\n",
    "\n",
    "Sample Input#\n",
    "7\n",
    "\n",
    "Sample Output#\n",
    "28"
   ]
  },
  {
   "cell_type": "code",
   "execution_count": 7,
   "id": "327e4b43",
   "metadata": {},
   "outputs": [
    {
     "data": {
      "text/plain": [
       "10"
      ]
     },
     "execution_count": 7,
     "metadata": {},
     "output_type": "execute_result"
    }
   ],
   "source": [
    "def sum_N_Numbers(n):\n",
    "    if n==1:\n",
    "        return n\n",
    "    else:\n",
    "        return n+ sum_N_Numbers(n-1)\n",
    "    \n",
    "sum_N_Numbers(4)"
   ]
  },
  {
   "cell_type": "code",
   "execution_count": null,
   "id": "6c1596cd",
   "metadata": {},
   "outputs": [],
   "source": []
  }
 ],
 "metadata": {
  "kernelspec": {
   "display_name": "Python 3",
   "language": "python",
   "name": "python3"
  },
  "language_info": {
   "codemirror_mode": {
    "name": "ipython",
    "version": 3
   },
   "file_extension": ".py",
   "mimetype": "text/x-python",
   "name": "python",
   "nbconvert_exporter": "python",
   "pygments_lexer": "ipython3",
   "version": "3.8.8"
  }
 },
 "nbformat": 4,
 "nbformat_minor": 5
}
