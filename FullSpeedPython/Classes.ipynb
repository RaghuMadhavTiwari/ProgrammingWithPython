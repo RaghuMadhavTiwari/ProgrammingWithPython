{
 "cells": [
  {
   "cell_type": "markdown",
   "id": "35fc2cd7",
   "metadata": {},
   "source": [
    "In object-oriented programming (OOP), a class is a structure that allows you to group together a set of properties (called attributes) and functions (called methods) to manipulate those properties. "
   ]
  },
  {
   "cell_type": "markdown",
   "id": "374cf27c",
   "metadata": {},
   "source": [
    "Challenge 1: Implement a Rectangle Class\n",
    "\n",
    "Problem Statement#\n",
    "Implement a class named Rectangle to store the coordinates of a rectangle given the top-left corner (x1, y1) and the bottom-right corner (x2, y2).\n",
    "\n",
    "Implement the class constructor with the parameters (x1, y1, x2, y2) and store them in the class instance using the self keyword.\n",
    "\n",
    "Input#\n",
    "Given a class Rectangle\n",
    "\n",
    "Output#\n",
    "Implement the class constructor and output if the rectangle can be created with the given the coordinates.\n",
    "\n",
    "Sample Input#\n",
    "x1 = 2, y1 = 7, x2 = 8, y2 = 4\n",
    "\n",
    "Sample Output#\n",
    "Rectangle(2, 7, 8, 4) created"
   ]
  },
  {
   "cell_type": "code",
   "execution_count": 1,
   "id": "30a297bc",
   "metadata": {},
   "outputs": [],
   "source": [
    "class Rectangle():\n",
    "    \n",
    "    def __init__(self,x1,y1,x2,y2):\n",
    "        if x1<x2 and y1>y2:\n",
    "            self.x1=x1\n",
    "            self.y1=y1\n",
    "            self.x2=x2\n",
    "            self.y2=y2\n",
    "        else:\n",
    "            print(\"Inncorrect coordinates of rectangle\")"
   ]
  },
  {
   "cell_type": "code",
   "execution_count": 2,
   "id": "2ddc0f3c",
   "metadata": {},
   "outputs": [
    {
     "data": {
      "text/plain": [
       "<__main__.Rectangle at 0x27b266b7af0>"
      ]
     },
     "execution_count": 2,
     "metadata": {},
     "output_type": "execute_result"
    }
   ],
   "source": [
    "a=Rectangle(2,7,8,4)\n",
    "a"
   ]
  },
  {
   "cell_type": "markdown",
   "id": "39962778",
   "metadata": {},
   "source": [
    "Challenge 2: Implement Getter Methods\n",
    "\n",
    "Problem Statement#\n",
    "Implement the width() and height() methods which return, respectively, the width and height of a rectangle. The tests that follow will create two objects—instances of Rectangle to test the calculations.\n",
    "\n",
    "Input#\n",
    "A class Rectangle with constructor having the rectangle coordinates x1, y1, x2, and y2 respectively\n",
    "\n",
    "Output#\n",
    "The width and height of the rectangle\n",
    "\n",
    "Sample Input#\n",
    "x1 = 2, y1 = 7, x2 = 8, y2 = 4\n",
    "\n",
    "Sample Output#\n",
    "height = 3, width = 4"
   ]
  },
  {
   "cell_type": "code",
   "execution_count": 3,
   "id": "86e6d921",
   "metadata": {},
   "outputs": [],
   "source": [
    "class Rectangle():\n",
    "    \n",
    "    def __init__(self,x1,y1,x2,y2):\n",
    "        if x1<x2 and y1>y2:\n",
    "            self.x1=x1\n",
    "            self.y1=y1\n",
    "            self.x2=x2\n",
    "            self.y2=y2\n",
    "        else:\n",
    "            print(\"Inncorrect coordinates of rectangle\")\n",
    "            \n",
    "    def height(self):\n",
    "        return self.y1-self.y2\n",
    "    \n",
    "    def width(self):\n",
    "        return self.x2-self.x1    "
   ]
  },
  {
   "cell_type": "code",
   "execution_count": 4,
   "id": "b38bea67",
   "metadata": {},
   "outputs": [],
   "source": [
    "r=Rectangle(2,7,8,4)"
   ]
  },
  {
   "cell_type": "code",
   "execution_count": 5,
   "id": "ca423b86",
   "metadata": {},
   "outputs": [
    {
     "data": {
      "text/plain": [
       "3"
      ]
     },
     "execution_count": 5,
     "metadata": {},
     "output_type": "execute_result"
    }
   ],
   "source": [
    "r.height()"
   ]
  },
  {
   "cell_type": "code",
   "execution_count": 6,
   "id": "e7832061",
   "metadata": {},
   "outputs": [
    {
     "data": {
      "text/plain": [
       "6"
      ]
     },
     "execution_count": 6,
     "metadata": {},
     "output_type": "execute_result"
    }
   ],
   "source": [
    "r.width()"
   ]
  },
  {
   "cell_type": "markdown",
   "id": "1353fa9d",
   "metadata": {},
   "source": [
    "Problem Statement#\n",
    "Implement the area() and perimeter() methods to return the area and perimeter of the rectangle respectively, where\n",
    "\n",
    "Area = width*heightArea=width∗height\n",
    "\n",
    "Perimeter = 2*width + 2*heightPerimeter=2∗width+2∗height\n",
    "\n",
    "Input#\n",
    "A class Rectangle with constructor having the rectangle coordinates x1, y1, x2, and y2 respectively\n",
    "\n",
    "Output#\n",
    "The area and perimeter of the rectangle\n",
    "\n",
    "Sample Input#\n",
    "x1 = 2, y1 = 7, x2 = 5, y2 = 3\n",
    "\n",
    "Sample Output#\n",
    "Area = 12, Perimeter = 14"
   ]
  },
  {
   "cell_type": "code",
   "execution_count": 7,
   "id": "0d47dad6",
   "metadata": {},
   "outputs": [],
   "source": [
    "class Rectangle():\n",
    "    \n",
    "    def __init__(self,x1,y1,x2,y2):\n",
    "        if x1<x2 and y1>y2:\n",
    "            self.x1=x1\n",
    "            self.y1=y1\n",
    "            self.x2=x2\n",
    "            self.y2=y2\n",
    "        else:\n",
    "            print(\"Inncorrect coordinates of rectangle\")\n",
    "            \n",
    "    def height(self):\n",
    "        return self.y1-self.y2\n",
    "    \n",
    "    def width(self):\n",
    "        return self.x2-self.x1  \n",
    "    \n",
    "    def area(self):\n",
    "        return self.height()*self.width()\n",
    "    \n",
    "    def perimeter(self):\n",
    "        return 2*(self.height() + self.width())"
   ]
  },
  {
   "cell_type": "code",
   "execution_count": 8,
   "id": "91957cf1",
   "metadata": {},
   "outputs": [
    {
     "data": {
      "text/plain": [
       "18"
      ]
     },
     "execution_count": 8,
     "metadata": {},
     "output_type": "execute_result"
    }
   ],
   "source": [
    "r1=Rectangle(2,7,8,4)\n",
    "r1.area()"
   ]
  },
  {
   "cell_type": "code",
   "execution_count": 9,
   "id": "0f95a86d",
   "metadata": {},
   "outputs": [
    {
     "data": {
      "text/plain": [
       "18"
      ]
     },
     "execution_count": 9,
     "metadata": {},
     "output_type": "execute_result"
    }
   ],
   "source": [
    "r1.perimeter()"
   ]
  },
  {
   "cell_type": "markdown",
   "id": "5d0102ca",
   "metadata": {},
   "source": [
    "Challenge 4: Implement a Print Method\n",
    "\n",
    "Problem Statement#\n",
    "Implement a function in the Rectangle class __str__ method, such that when you print one of the objects using the print() command, it prints the coordinates as x1, y1, x2, y2.\n",
    "\n",
    "Input#\n",
    "A class Rectangle with constructor having the rectangle coordinates x1, y1, x2, and y2 respectively\n",
    "\n",
    "Output#\n",
    "Print the coordinates of the rectangle\n",
    "\n",
    "Sample Input#\n",
    "x1 = 2, y1 = 3, x2 = 5, y2 = 7\n",
    "\n",
    "Sample Output#\n",
    "2, 3, 5, 7"
   ]
  },
  {
   "cell_type": "code",
   "execution_count": 10,
   "id": "96482fee",
   "metadata": {},
   "outputs": [],
   "source": [
    "'''In python, printing instances of a class may sometimes return address of object in memory. \n",
    "Python has built in __str__ and __repr__ methods to return string representation of object'''\n",
    "\n",
    "class Rectangle():\n",
    "    def __init__(self,x1,y1,x2,y2):\n",
    "        if x1<x2 and y1>y2:\n",
    "            self.x1=x1\n",
    "            self.y1=y1\n",
    "            self.x2=x2\n",
    "            self.y2=y2\n",
    "        else:\n",
    "            print(\"Inncorrect coordinates of rectangle\")\n",
    "            \n",
    "    def __str__(self):\n",
    "#Alter __repr__(self)\n",
    "        return(str(self.x1)+','+str(self.y1)+','+str(self.x2)+','+str(self.y2))"
   ]
  },
  {
   "cell_type": "code",
   "execution_count": 11,
   "id": "57611264",
   "metadata": {},
   "outputs": [
    {
     "name": "stdout",
     "output_type": "stream",
     "text": [
      "2,8,5,7\n"
     ]
    }
   ],
   "source": [
    "r2=Rectangle(2,8,5,7)\n",
    "print(r2)"
   ]
  },
  {
   "cell_type": "markdown",
   "id": "eb5e04fc",
   "metadata": {},
   "source": [
    "Inheritance- When a class derives(inherits attributes and/or methods of a different class.\n",
    "\n",
    "Multi-Level Inheritance\n",
    "\n",
    "Multuple Inheritance\n",
    "\n",
    "Super Method"
   ]
  },
  {
   "cell_type": "markdown",
   "id": "a734a59f",
   "metadata": {},
   "source": [
    "Challenge 5: Inheritance\n",
    "\n",
    "Problem Statement#\n",
    "The code for the Rectangle class is implemented below:\n",
    "Create a Square class as a ​subclass of Rectangle.\n",
    "Implement the Square constructor. The constructor should have only the x1, y1 coordinates and the length of a side. Notice which arguments you’ll have to use when you invoke the Rectangle constructor while using super.\n",
    "The following test cases will calculate the area of the square to check that the Square class correctly inherits attributes and methods from Rectangle.\n",
    "\n",
    "Input#\n",
    "The coordinates and the length of the square\n",
    "\n",
    "Output#\n",
    "Area of the square\n",
    "\n",
    "Sample Input#\n",
    "Square([2, 3, 5])\n",
    "\n",
    "x1 = 2, y1 = 3, length = 5\n",
    "\n",
    "Sample Output#\n",
    "Area = 25"
   ]
  },
  {
   "cell_type": "code",
   "execution_count": 15,
   "id": "a76d35ac",
   "metadata": {},
   "outputs": [
    {
     "name": "stdout",
     "output_type": "stream",
     "text": [
      "Length: 7, Area: 49\n",
      "Length: 5, Area: 25\n"
     ]
    }
   ],
   "source": [
    "class Rectangle:\n",
    "    def __init__(self, x1, y1, x2, y2): # class constructor\n",
    "        self.x1 = x1 # class variable\n",
    "        self.y1 = y1 # class variable\n",
    "        self.x2 = x2 # class variable\n",
    "        self.y2 = y2 # class variable\n",
    "        \n",
    "    def width(self):\n",
    "        return self.x2 - self.x1\n",
    "      \n",
    "    def height(self):\n",
    "        return self.y2 - self.y1\n",
    "  \n",
    "    def area(self):\n",
    "        return self.width() * self.height()\n",
    "  \n",
    "class Square(Rectangle):\n",
    "    def __init__(self, x1, y1, length):\n",
    "        x2 = x1 + length\n",
    "        y2 = y1 + length\n",
    "        super().__init__(x1, y1, x2, y2)\n",
    "    \n",
    "# test your code here\n",
    "square = Square (2, 7, 7)\n",
    "print(\"Length: \" + str(square.width()) + \", Area: \" + str(square.area()))\n",
    "square2 = Square (1, 3, 5)\n",
    "print(\"Length: \" + str(square2.width()) + \", Area: \" + str(square2.area()))"
   ]
  },
  {
   "cell_type": "code",
   "execution_count": null,
   "id": "d5feb11f",
   "metadata": {},
   "outputs": [],
   "source": []
  }
 ],
 "metadata": {
  "kernelspec": {
   "display_name": "Python 3",
   "language": "python",
   "name": "python3"
  },
  "language_info": {
   "codemirror_mode": {
    "name": "ipython",
    "version": 3
   },
   "file_extension": ".py",
   "mimetype": "text/x-python",
   "name": "python",
   "nbconvert_exporter": "python",
   "pygments_lexer": "ipython3",
   "version": "3.8.8"
  }
 },
 "nbformat": 4,
 "nbformat_minor": 5
}
