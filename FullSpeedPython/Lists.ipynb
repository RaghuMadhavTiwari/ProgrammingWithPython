{
 "cells": [
  {
   "cell_type": "markdown",
   "id": "d8cc9fc3",
   "metadata": {},
   "source": [
    "### Lists"
   ]
  },
  {
   "cell_type": "markdown",
   "id": "5ebf2eec",
   "metadata": {},
   "source": [
    "Challenge 1: Sublist of a List\n",
    "\n",
    "Problem Statement#\n",
    "Given a getSublist() function, create a list named l [1, 4, 9, 10, 23]. Using list slicing, get the sublists [1, 4, 9] and [10, 23].\n",
    "\n",
    "Input#\n",
    "A list\n",
    "\n",
    "Output#\n",
    "Two sublists"
   ]
  },
  {
   "cell_type": "code",
   "execution_count": 3,
   "id": "7a2cdb7f",
   "metadata": {},
   "outputs": [
    {
     "data": {
      "text/plain": [
       "[[1, 4, 9], [10, 23]]"
      ]
     },
     "execution_count": 3,
     "metadata": {},
     "output_type": "execute_result"
    }
   ],
   "source": [
    "def getSubList():\n",
    "    l = [1, 4, 9, 10, 23]\n",
    "    l1 = l[0:3]\n",
    "    l2 = l[3:5]\n",
    "    return [l1, l2]  ## Alter the return statement to return your sublists\n",
    "\n",
    "getSubList()"
   ]
  },
  {
   "cell_type": "markdown",
   "id": "d550080b",
   "metadata": {},
   "source": [
    "Challenge 2: Appending Value to the End of a List\n",
    "\n",
    "Problem Statement#\n",
    "Given an AppendtoList() function, create a list named l with the following values:\n",
    "[1, 4, 9, 10, 23]\n",
    "and appends the number 90 at the end of the list.\n",
    "\n",
    "Input#\n",
    "A list of numbers\n",
    "\n",
    "Output#\n",
    "Append the value 90 to the end of the list l\n",
    "\n",
    "Sample Input#\n",
    "[1, 4, 9, 10, 23]\n",
    "\n",
    "Sample Output#\n",
    "[1, 4, 9, 10, 23, 90]"
   ]
  },
  {
   "cell_type": "code",
   "execution_count": 5,
   "id": "5109b343",
   "metadata": {},
   "outputs": [],
   "source": [
    "def AppendtoList():\n",
    "    l = [1, 4, 9, 10, 23]\n",
    "    l=l.append(90)\n",
    "    return l"
   ]
  },
  {
   "cell_type": "code",
   "execution_count": 6,
   "id": "3bb7ae17",
   "metadata": {},
   "outputs": [],
   "source": [
    "# Alter\n",
    "def AppendtoList():\n",
    "    l = [1, 4, 9, 10, 23]\n",
    "    l=l+[90]\n",
    "    return l"
   ]
  },
  {
   "cell_type": "markdown",
   "id": "0d5739a6",
   "metadata": {},
   "source": [
    "Challenge 3: Averaging Values in a List\n",
    "\n",
    "Problem Statement#\n",
    "Given a getAverage() function, create a list named l with the following values:\n",
    "[1, 4, 9, 10, 23]\n",
    "Calculate the average value of all values in the list.\n",
    "\n",
    "Input#\n",
    "A list of integers\n",
    "\n",
    "Output#\n",
    "An average of values in the list\n",
    "\n",
    "Sample Input#\n",
    "[1, 4, 9, 10, 23]\n",
    "\n",
    "Sample Output#\n",
    "9.4"
   ]
  },
  {
   "cell_type": "code",
   "execution_count": 14,
   "id": "e20cd032",
   "metadata": {},
   "outputs": [],
   "source": [
    "def getAverage():\n",
    "    l1 = [1, 4, 9, 10, 23]\n",
    "    n=len(l1)\n",
    "    sum=0\n",
    "    for i in range(0,n):\n",
    "        sum=sum+l1[i]\n",
    "    avg = sum/n   \n",
    "    return avg"
   ]
  },
  {
   "cell_type": "code",
   "execution_count": 15,
   "id": "ca0fff15",
   "metadata": {},
   "outputs": [
    {
     "data": {
      "text/plain": [
       "9.4"
      ]
     },
     "execution_count": 15,
     "metadata": {},
     "output_type": "execute_result"
    }
   ],
   "source": [
    "l1=getAverage()\n",
    "l1"
   ]
  },
  {
   "cell_type": "code",
   "execution_count": 16,
   "id": "2f7936d6",
   "metadata": {},
   "outputs": [],
   "source": [
    "# Alter\n",
    "def getAverage():\n",
    "    l1 = [1, 4, 9, 10, 23]\n",
    "    avg = sum(l1)/len(l1)   \n",
    "    return avg"
   ]
  },
  {
   "cell_type": "markdown",
   "id": "62f3f0bf",
   "metadata": {},
   "source": [
    "Challenge 4: Remove Sublist From List\n",
    "\n",
    "Problem Statement#\n",
    "Given a removeList() function, create a list named l with the following values:\n",
    "[1, 4, 9, 10, 23]\n",
    "Remove the sublist [4, 9] from list l\n",
    "\n",
    "Input#\n",
    "A list\n",
    "\n",
    "Output#\n",
    "The updated list after the sublist has been removed\n",
    "\n",
    "Sample Input#\n",
    "[1, 4, 9, 10, 23]\n",
    "\n",
    "Sample Output#\n",
    "[1, 10, 23]"
   ]
  },
  {
   "cell_type": "code",
   "execution_count": 22,
   "id": "9cd9d744",
   "metadata": {},
   "outputs": [
    {
     "data": {
      "text/plain": [
       "[1, 10, 23]"
      ]
     },
     "execution_count": 22,
     "metadata": {},
     "output_type": "execute_result"
    }
   ],
   "source": [
    "def removeList():\n",
    "    l1 = [1, 4, 9, 10, 23]\n",
    "    l2 = [4,9]\n",
    "    l1.remove(l2[0])\n",
    "    l1.remove(l2[1])\n",
    "    return l1\n",
    "\n",
    "l1=removeList()\n",
    "l1"
   ]
  },
  {
   "cell_type": "markdown",
   "id": "172d7d64",
   "metadata": {},
   "source": [
    "### List Comprehension"
   ]
  },
  {
   "cell_type": "markdown",
   "id": "5f6c1dc6",
   "metadata": {},
   "source": [
    "Challenge 5: List of Squares\n",
    "\n",
    "Problem Statement#\n",
    "Given a getSquare() function, create a list with the squares of the first 10 numbers, i.e., in the range from 1-10.\n",
    "\n",
    "Input#\n",
    "An empty list\n",
    "\n",
    "Output#\n",
    "An updated list with the square of each value in the list"
   ]
  },
  {
   "cell_type": "code",
   "execution_count": 28,
   "id": "0cc9a7dd",
   "metadata": {},
   "outputs": [
    {
     "data": {
      "text/plain": [
       "[1, 4, 9, 16, 25, 36, 49, 64, 81, 100]"
      ]
     },
     "execution_count": 28,
     "metadata": {},
     "output_type": "execute_result"
    }
   ],
   "source": [
    "def getSquare():\n",
    "    l1 = [x**2 for x in range(1,11)] ## Create your list here\n",
    "    return l1\n",
    "getSquare()"
   ]
  },
  {
   "cell_type": "markdown",
   "id": "7f3e17cd",
   "metadata": {},
   "source": [
    "Challenge 6: List of Cubes\n",
    "\n",
    "Problem Statement#\n",
    "Given a getCube() function, create a list with the cubes of the first 20 numbers.\n",
    "\n",
    "Input#\n",
    "An empty list\n",
    "\n",
    "Output#\n",
    "An updated list with the cube of each value in the list"
   ]
  },
  {
   "cell_type": "code",
   "execution_count": 29,
   "id": "eadea375",
   "metadata": {},
   "outputs": [
    {
     "data": {
      "text/plain": [
       "[1,\n",
       " 8,\n",
       " 27,\n",
       " 64,\n",
       " 125,\n",
       " 216,\n",
       " 343,\n",
       " 512,\n",
       " 729,\n",
       " 1000,\n",
       " 1331,\n",
       " 1728,\n",
       " 2197,\n",
       " 2744,\n",
       " 3375,\n",
       " 4096,\n",
       " 4913,\n",
       " 5832,\n",
       " 6859,\n",
       " 8000]"
      ]
     },
     "execution_count": 29,
     "metadata": {},
     "output_type": "execute_result"
    }
   ],
   "source": [
    "def getCube():\n",
    "    l1 = [x**3 for x in range(21) if x!=0] ## Make the list here\n",
    "    return l1\n",
    "getCube()"
   ]
  },
  {
   "cell_type": "markdown",
   "id": "501d4e93",
   "metadata": {},
   "source": [
    "Challenge 7: Lists of Even and Odd Numbers\n",
    "\n",
    "Problem Statement#\n",
    "Given a ListofEvenOdds() function, create a list comprehension with all the even numbers from 0 to 20, and another one with all the odd numbers.\n",
    "\n",
    "Input#\n",
    "Two empty lists\n",
    "\n",
    "Output#\n",
    "List 1 with even numbers\n",
    "\n",
    "List 2 with odd numbers"
   ]
  },
  {
   "cell_type": "code",
   "execution_count": 32,
   "id": "1f5b2111",
   "metadata": {},
   "outputs": [
    {
     "data": {
      "text/plain": [
       "[[0, 2, 4, 6, 8, 10, 12, 14, 16, 18, 20], [1, 3, 5, 7, 9, 11, 13, 15, 17, 19]]"
      ]
     },
     "execution_count": 32,
     "metadata": {},
     "output_type": "execute_result"
    }
   ],
   "source": [
    "def ListofEvenOdds():\n",
    "    l1 = [x for x in range(21) if x%2==0] # list of even numbers\n",
    "    l2 = [x for x in range(20) if x%2!=0] # list of odd numbers\n",
    "# Alter  [x for x in range(20) if (x not in l1)]\n",
    "    return [l1, l2]\n",
    "ListofEvenOdds()"
   ]
  },
  {
   "cell_type": "markdown",
   "id": "f8caf14c",
   "metadata": {},
   "source": [
    "Challenge 8: Sum of Squares of Even Numbers\n",
    "\n",
    "Problem Statement#\n",
    "Given an evenSquare() function, create a list with the squares of the even numbers from 0 to 20. The final output should be the sum of even numbers in the list:\n",
    "\n",
    "Input#\n",
    "A list with the square of even numbers from 0-20\n",
    "\n",
    "Output#\n",
    "The sum of the numbers in the list"
   ]
  },
  {
   "cell_type": "code",
   "execution_count": 34,
   "id": "a05d39e2",
   "metadata": {},
   "outputs": [
    {
     "data": {
      "text/plain": [
       "1540"
      ]
     },
     "execution_count": 34,
     "metadata": {},
     "output_type": "execute_result"
    }
   ],
   "source": [
    "def evenSquareSum():\n",
    "    l1 = [x**2 for x in range(21) if x%2==0]\n",
    "# Alter  [x**2 for x in range(1,21,2)]\n",
    "    sum_of_l1=sum(l1)\n",
    "    return sum_of_l1\n",
    "evenSquareSum()"
   ]
  },
  {
   "cell_type": "markdown",
   "id": "4579b9b0",
   "metadata": {},
   "source": [
    "Challenge 9: Even Squares Not Divisible By Three\n",
    "\n",
    "Problem Statement#\n",
    "Given a getSquare() function, make a list comprehension that returns a list with the squares of all even numbers from 0 to 20, but ignores those numbers that are divisible by 3.\n",
    "\n",
    "Input#\n",
    "An empty list\n",
    "\n",
    "Output#\n",
    "A list with the square of all even numbers not divisible by 3."
   ]
  },
  {
   "cell_type": "code",
   "execution_count": 38,
   "id": "8560270d",
   "metadata": {},
   "outputs": [
    {
     "data": {
      "text/plain": [
       "[4, 16, 64, 100, 196, 256, 400]"
      ]
     },
     "execution_count": 38,
     "metadata": {},
     "output_type": "execute_result"
    }
   ],
   "source": [
    "def getSquare():\n",
    "    l1 = [x*x for x in range(0,21,2) if x%3!=0]\n",
    "# Alter [x*x for x in range(21) if x%3!=0 and x%2==0]\n",
    "    return l1 \n",
    "getSquare()"
   ]
  },
  {
   "cell_type": "code",
   "execution_count": null,
   "id": "b7c4f1f0",
   "metadata": {},
   "outputs": [],
   "source": []
  }
 ],
 "metadata": {
  "kernelspec": {
   "display_name": "Python 3",
   "language": "python",
   "name": "python3"
  },
  "language_info": {
   "codemirror_mode": {
    "name": "ipython",
    "version": 3
   },
   "file_extension": ".py",
   "mimetype": "text/x-python",
   "name": "python",
   "nbconvert_exporter": "python",
   "pygments_lexer": "ipython3",
   "version": "3.8.8"
  }
 },
 "nbformat": 4,
 "nbformat_minor": 5
}
