{
 "cells": [
  {
   "cell_type": "markdown",
   "id": "6afbbe38",
   "metadata": {},
   "source": [
    "### Iterators"
   ]
  },
  {
   "cell_type": "markdown",
   "id": "cd8a4b89",
   "metadata": {},
   "source": [
    "Challenge 1: Return Even Numbers From 1 to n\n",
    "    \n",
    "Problem Statement#\n",
    "Edit the following iterator class to return all the positive even numbers from 1 to (n). The following test cases will test your code using\n",
    "\n",
    "myrange = MyRange(n) # n is an integer\n",
    "print(myrange.next())\n",
    "Input#\n",
    "A number n\n",
    "\n",
    "Output#\n",
    "The range of positive even number uptil n\n",
    "\n",
    "Sample Input#\n",
    "8\n",
    "\n",
    "Sample Output#\n",
    "[2, 4, 6, 8]    "
   ]
  },
  {
   "cell_type": "code",
   "execution_count": 16,
   "id": "4ebece39",
   "metadata": {},
   "outputs": [
    {
     "name": "stdout",
     "output_type": "stream",
     "text": [
      "[2, 4, 6, 8]\n"
     ]
    }
   ],
   "source": [
    "class MyRange:\n",
    "    def __init__(self, n):\n",
    "        self.n=n\n",
    "\n",
    "    def __iter__(self):\n",
    "        return self\n",
    "\n",
    "    def next(self):\n",
    "        value=1\n",
    "        even_numbers=[]\n",
    "        while value<self.n+1:\n",
    "            if value%2==0:      \n",
    "                i=value\n",
    "                even_numbers.append(i)\n",
    "            \n",
    "            value=value+1\n",
    "        return even_numbers\n",
    "            \n",
    "        \n",
    "myrange =MyRange(8)\n",
    "print (myrange.next())"
   ]
  },
  {
   "cell_type": "code",
   "execution_count": 19,
   "id": "da8911f1",
   "metadata": {},
   "outputs": [
    {
     "name": "stdout",
     "output_type": "stream",
     "text": [
      "[2, 4, 6, 8]\n"
     ]
    }
   ],
   "source": [
    "# Alter\n",
    "class MyRange:\n",
    "  def __init__(self, n):\n",
    "    self.n = n\n",
    "\n",
    "  def __iter__(self):\n",
    "    return self\n",
    "\n",
    "  def next(self):\n",
    "    evenArray = [] # next method returns this list\n",
    "    for i in range(1, self.n+1):\n",
    "      if i % 2 == 0: # checks if number is even\n",
    "        value = i\n",
    "        evenArray.append(i) # adds the even number to the list\n",
    "      else: # number was odd\n",
    "        i+=1\n",
    "    return evenArray\n",
    "    \n",
    "myrange = MyRange(8)\n",
    "print (myrange.next())"
   ]
  },
  {
   "cell_type": "markdown",
   "id": "69a2ccbf",
   "metadata": {},
   "source": [
    "Challenge 2: Return Numbers From n Down to 0\n",
    "\n",
    "Problem Statement#\n",
    "Edit the following class, such that it returns all numbers from n down to 0.\n",
    "\n",
    "Input#\n",
    "A number n\n",
    "\n",
    "Output#\n",
    "The range of numbers from n down to 0\n",
    "\n",
    "Sample Input#\n",
    "8\n",
    "\n",
    "Sample Output#\n",
    "[8, 7, 6, 5, 4, 3, 2, 1, 0]"
   ]
  },
  {
   "cell_type": "code",
   "execution_count": 21,
   "id": "d3bd813a",
   "metadata": {},
   "outputs": [
    {
     "name": "stdout",
     "output_type": "stream",
     "text": [
      "[8, 7, 6, 5, 4, 3, 2, 1, 0]\n"
     ]
    }
   ],
   "source": [
    "class MyRange:\n",
    "    def __init__(self, n):\n",
    "        self.n = n\n",
    "\n",
    "    def __iter__(self):\n",
    "        return self\n",
    "\n",
    "    def next(self):\n",
    "        value=self.n\n",
    "        el=[]\n",
    "        while value>=0:\n",
    "            el.append(value)\n",
    "            value=value-1\n",
    "        return el\n",
    "    \n",
    "myrange1= MyRange(8)\n",
    "print (myrange1.next())"
   ]
  },
  {
   "cell_type": "code",
   "execution_count": 22,
   "id": "dc64a334",
   "metadata": {},
   "outputs": [
    {
     "name": "stdout",
     "output_type": "stream",
     "text": [
      "[8, 7, 6, 5, 4, 3, 2, 1, 0]\n"
     ]
    }
   ],
   "source": [
    "# Alter\n",
    "class MyRange:\n",
    "  def __init__(self, n):\n",
    "    self.n = n\n",
    "\n",
    "  def __iter__(self):\n",
    "    return self\n",
    "\n",
    "  def next(self):\n",
    "    myArray = []\n",
    "    for i in range(self.n, -1, -1): # from n to 0\n",
    "      myArray.append(i) # adds the even number to the list\n",
    "    return myArray\n",
    "  \n",
    "myRange = MyRange(8)\n",
    "print(myRange.next())"
   ]
  },
  {
   "cell_type": "markdown",
   "id": "2f3615e7",
   "metadata": {},
   "source": [
    "Challenge 3: Return Sequence of Fibonacci Numbers\n",
    "\n",
    "Problem Statement#\n",
    "Edit the following iterator class to return the Fibonacci sequence from the first element up to the nth element.\n",
    "\n",
    "The Fibonacci Sequence is the series of numbers in which the next term is found by adding the two previous terms:\n",
    "\n",
    "0, 1, 1, 2, 3, 5, 8, 13, 21, 34, ...\n",
    "Here , the number 0 is the first term, 1 is the second term, 1 is the third term and so on…\n",
    "\n",
    "Input#\n",
    "A number n\n",
    "\n",
    "Output#\n",
    "The range of fibonacci numbers from 0 to n\n",
    "\n",
    "Sample Input#\n",
    "8\n",
    "\n",
    "Sample Output#\n",
    "[0, 1, 1, 2, 3, 5, 8, 13]"
   ]
  },
  {
   "cell_type": "code",
   "execution_count": 25,
   "id": "26ab3494",
   "metadata": {},
   "outputs": [
    {
     "name": "stdout",
     "output_type": "stream",
     "text": [
      "[0, 1, 1, 2, 3, 5, 8, 13]\n"
     ]
    }
   ],
   "source": [
    "class MyRange():\n",
    "    def __init__(self,n):\n",
    "        self.n=n\n",
    "    def __iter__(self):\n",
    "        return self\n",
    "    def next(self):\n",
    "        fib=[]\n",
    "        for i in range(self.n):\n",
    "            if i==0 or i==1:\n",
    "                fib.append(i)\n",
    "            else:\n",
    "                fib.append(fib[i-1]+fib[i-2])\n",
    "        return fib\n",
    "    \n",
    "myrange2=MyRange(8)\n",
    "print(myrange2.next())"
   ]
  },
  {
   "cell_type": "markdown",
   "id": "63e2bce8",
   "metadata": {},
   "source": [
    "### Generators"
   ]
  },
  {
   "cell_type": "markdown",
   "id": "a2cd7573",
   "metadata": {},
   "source": [
    "Challenge 1: Yield Odd Numbers From 1 to n\n",
    "\n",
    "Problem Statement#\n",
    "Create a generator to yield all the odd numbers from 1 to n.\n",
    "\n",
    "Input#\n",
    "A number n\n",
    "\n",
    "Output#\n",
    "All odd numbers from 1 uptil n\n",
    "\n",
    "Sample Input#\n",
    "8\n",
    "\n",
    "Sample Output#\n",
    "1, 3, 5, 7"
   ]
  },
  {
   "cell_type": "code",
   "execution_count": 36,
   "id": "375cca56",
   "metadata": {},
   "outputs": [
    {
     "name": "stdout",
     "output_type": "stream",
     "text": [
      "1\n",
      "3\n",
      "5\n",
      "7\n"
     ]
    }
   ],
   "source": [
    "def odd(n):\n",
    "    for i in range(n+1):\n",
    "        if i%2!=0:\n",
    "            yield i\n",
    "            \n",
    "for j in odd(8):\n",
    "    print(j)"
   ]
  },
  {
   "cell_type": "markdown",
   "id": "57109d19",
   "metadata": {},
   "source": [
    "Challenge 2: Yield Numbers From n Down to 0\n",
    "\n",
    "Problem Statement#\n",
    "Implement a generator reverse(n) that returns All numbers from n down to 0.\n",
    "\n",
    "Input#\n",
    "A number n\n",
    "\n",
    "Output#\n",
    "All numbers from n down to 0.\n",
    "\n",
    "Sample Input#\n",
    "8\n",
    "\n",
    "Sample Output#\n",
    "8, 7, 6, 5, 4, 3, 2, 1, 0"
   ]
  },
  {
   "cell_type": "code",
   "execution_count": 37,
   "id": "4f097c6b",
   "metadata": {},
   "outputs": [],
   "source": [
    "def reverse(n):\n",
    "    \n",
    "    while n>=0:\n",
    "        yield n\n",
    "        n=n-1"
   ]
  },
  {
   "cell_type": "code",
   "execution_count": 39,
   "id": "a68008f2",
   "metadata": {},
   "outputs": [
    {
     "name": "stdout",
     "output_type": "stream",
     "text": [
      "8\n",
      "7\n",
      "6\n",
      "5\n",
      "4\n",
      "3\n",
      "2\n",
      "1\n",
      "0\n"
     ]
    }
   ],
   "source": [
    "for j in reverse(8):\n",
    "    print(j)"
   ]
  },
  {
   "cell_type": "markdown",
   "id": "b50a88c3",
   "metadata": {},
   "source": [
    "Challenge 3: Yield Fibonacci Sequence From 1st to Nth Number\n",
    "\n",
    "Problem Statement#\n",
    "Create a generator to return the Fibonacci sequence starting from the first element up to n.\n",
    "\n",
    "The Fibonacci Sequence is the series of numbers in which the next term is found by adding the two previous terms:\n",
    "\n",
    "0, 1, 1, 2, 3, 5, 8, 13, 21, 34, ...\n",
    "Here , the number 0 is the first term, 1 is the second term, 1 is the third term and so on…\n",
    "\n",
    "Input#\n",
    "A number n\n",
    "\n",
    "Output#\n",
    "The range of fibonacci numbers from 0 to n\n",
    "\n",
    "Sample Input#\n",
    "8\n",
    "\n",
    "Sample Output#\n",
    "[0, 1, 1, 2, 3, 5, 8, 13]"
   ]
  },
  {
   "cell_type": "code",
   "execution_count": 52,
   "id": "97ed07d9",
   "metadata": {},
   "outputs": [],
   "source": [
    "def fibonacci(n):\n",
    "    li=[]\n",
    "    for i in range(n):\n",
    "        if i==0 or i==1:\n",
    "            li.append(i)\n",
    "            yield li[i]\n",
    "        else:\n",
    "            li.append(li[i-1]+li[i-2])\n",
    "            yield li[i]"
   ]
  },
  {
   "cell_type": "code",
   "execution_count": 53,
   "id": "3128fcee",
   "metadata": {},
   "outputs": [
    {
     "name": "stdout",
     "output_type": "stream",
     "text": [
      "0\n",
      "1\n",
      "1\n",
      "2\n",
      "3\n",
      "5\n",
      "8\n",
      "13\n"
     ]
    }
   ],
   "source": [
    "for j in fibonacci(8):\n",
    "    print(j)"
   ]
  },
  {
   "cell_type": "markdown",
   "id": "c2dfa175",
   "metadata": {},
   "source": [
    "### Asynchronous Programming"
   ]
  },
  {
   "cell_type": "markdown",
   "id": "a8929fcb",
   "metadata": {},
   "source": [
    "Synchronous program execution is quite simple: a program starts at the first line, then each line is executed until the program reaches the end. Each time a function is called, the program waits for the function to return before continuing to the next line.\n",
    "Asynchronous programming allows you to write concurrent code that runs in a single thread.\n",
    "\n",
    "\n"
   ]
  }
 ],
 "metadata": {
  "kernelspec": {
   "display_name": "Python 3",
   "language": "python",
   "name": "python3"
  },
  "language_info": {
   "codemirror_mode": {
    "name": "ipython",
    "version": 3
   },
   "file_extension": ".py",
   "mimetype": "text/x-python",
   "name": "python",
   "nbconvert_exporter": "python",
   "pygments_lexer": "ipython3",
   "version": "3.8.8"
  }
 },
 "nbformat": 4,
 "nbformat_minor": 5
}
