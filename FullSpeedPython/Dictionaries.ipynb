{
 "cells": [
  {
   "cell_type": "markdown",
   "id": "70bb9dea",
   "metadata": {},
   "source": [
    "Dictionaries are data structures that index values by a given key (key-value pairs)."
   ]
  },
  {
   "cell_type": "markdown",
   "id": "347e7e0d",
   "metadata": {},
   "source": [
    "Challenge 1: Determine Size of a Dictionary\n",
    "\n",
    "Problem Statement#\n",
    "Given a lengthDictionary function that takes Students dictionary as a parameter, find how many students are in the dictionary.\n",
    "\n",
    "Input#\n",
    "A dictionary\n",
    "\n",
    "Output#\n",
    "The size of the dictionary"
   ]
  },
  {
   "cell_type": "code",
   "execution_count": 1,
   "id": "3d65aa0d",
   "metadata": {},
   "outputs": [],
   "source": [
    "def lengthDictionary(Students):\n",
    "    print(len(Students))"
   ]
  },
  {
   "cell_type": "code",
   "execution_count": 2,
   "id": "4f5d7fe6",
   "metadata": {},
   "outputs": [
    {
     "name": "stdout",
     "output_type": "stream",
     "text": [
      "8\n"
     ]
    }
   ],
   "source": [
    "Students = {\n",
    "    \"Peter\": 10,\n",
    "    \"Isabel\": 11,\n",
    "    \"Anna\": 9,\n",
    "    \"Thomas\": 10,\n",
    "    \"Bob\": 10,\n",
    "    \"Joseph\": 11,\n",
    "    \"Maria\": 12,\n",
    "    \"Gabriel\": 10,\n",
    "}\n",
    "lengthDictionary(Students)"
   ]
  },
  {
   "cell_type": "markdown",
   "id": "2869db72",
   "metadata": {},
   "source": [
    "Challenge 2: Average of Values of Keys in a Dictionary\n",
    "\n",
    "Problem Statement#\n",
    "Implement a calculateAvg function that receives the ages dictionary as a ​parameter, and returns the average age of the students. Traverse all items in the dictionary using the “items” method above.\n",
    "\n",
    "Input#\n",
    "A dictionary\n",
    "\n",
    "Output#\n",
    "The average age of all students in the dictionary"
   ]
  },
  {
   "cell_type": "code",
   "execution_count": 3,
   "id": "d1a17a49",
   "metadata": {},
   "outputs": [],
   "source": [
    "def calculateAvg(ages):\n",
    "    sum=0\n",
    "    l=len(ages)\n",
    "    for index, value in ages.items():\n",
    "        sum=sum+value\n",
    "    return (sum/l)"
   ]
  },
  {
   "cell_type": "code",
   "execution_count": 4,
   "id": "002731ec",
   "metadata": {},
   "outputs": [
    {
     "data": {
      "text/plain": [
       "10.375"
      ]
     },
     "execution_count": 4,
     "metadata": {},
     "output_type": "execute_result"
    }
   ],
   "source": [
    "calculateAvg(Students)"
   ]
  },
  {
   "cell_type": "code",
   "execution_count": 5,
   "id": "9d9baaa2",
   "metadata": {},
   "outputs": [],
   "source": [
    "#Alter\n",
    "def calculateAvg_(ages):\n",
    "    length=len(ages)\n",
    "    return(sum(ages.values())/length)"
   ]
  },
  {
   "cell_type": "code",
   "execution_count": 6,
   "id": "2f1d3b96",
   "metadata": {},
   "outputs": [
    {
     "data": {
      "text/plain": [
       "10.375"
      ]
     },
     "execution_count": 6,
     "metadata": {},
     "output_type": "execute_result"
    }
   ],
   "source": [
    "calculateAvg_(Students)"
   ]
  },
  {
   "cell_type": "markdown",
   "id": "eeb6d04d",
   "metadata": {},
   "source": [
    "Challenge 3: Return Key With Maximum Value\n",
    "\n",
    "Problem Statement#\n",
    "Implement an oldestStudent function that receives the ages dictionary as a parameter, and returns the name of the oldest student.\n",
    "\n",
    "Input#\n",
    "A dictionary\n",
    "\n",
    "Output#\n",
    "The key associated with highest age, i.e., the name of the oldest student"
   ]
  },
  {
   "cell_type": "code",
   "execution_count": 7,
   "id": "56fc2f83",
   "metadata": {},
   "outputs": [],
   "source": [
    "def oldestStudent(ages):\n",
    "    # list out keys and values separately\n",
    "    key_list = list(ages.keys())\n",
    "    val_list = list(ages.values())\n",
    "    \n",
    "    max_val=max(val_list) \n",
    "    ind_of_max_val=val_list.index(max_val)\n",
    "    return key_list[ind_of_max_val]"
   ]
  },
  {
   "cell_type": "code",
   "execution_count": 8,
   "id": "f4dae606",
   "metadata": {},
   "outputs": [
    {
     "data": {
      "text/plain": [
       "'Maria'"
      ]
     },
     "execution_count": 8,
     "metadata": {},
     "output_type": "execute_result"
    }
   ],
   "source": [
    "oldestStudent(Students)"
   ]
  },
  {
   "cell_type": "markdown",
   "id": "d4dc1294",
   "metadata": {},
   "source": [
    "Challenge 4: Increment Dictionary Values\n",
    "\n",
    "Problem Statement#\n",
    "Implement an updateAges function that receives ages dictionary and a number n and returns a new dictionary where each student is (n) years older.\n",
    "\n",
    "Input#\n",
    "A dictionary\n",
    "\n",
    "Output#\n",
    "Returns a copy of sorted ages where each student is n years older."
   ]
  },
  {
   "cell_type": "code",
   "execution_count": 9,
   "id": "8f09f168",
   "metadata": {},
   "outputs": [],
   "source": [
    "def updateAges(ages, n):\n",
    "    key_list = list(ages.keys())\n",
    "    val_list = list(ages.values())\n",
    "    \n",
    "    val_list=[x+n for x in val_list]\n",
    "    \n",
    "    new_ages=res = {key_list[i]: val_list[i] for i in range(len(val_list))}\n",
    "    return new_ages    "
   ]
  },
  {
   "cell_type": "code",
   "execution_count": 10,
   "id": "1268a082",
   "metadata": {},
   "outputs": [
    {
     "data": {
      "text/plain": [
       "{'Peter': 11,\n",
       " 'Isabel': 12,\n",
       " 'Anna': 10,\n",
       " 'Thomas': 11,\n",
       " 'Bob': 11,\n",
       " 'Joseph': 12,\n",
       " 'Maria': 13,\n",
       " 'Gabriel': 11}"
      ]
     },
     "execution_count": 10,
     "metadata": {},
     "output_type": "execute_result"
    }
   ],
   "source": [
    "updateAges(Students,1)"
   ]
  },
  {
   "cell_type": "code",
   "execution_count": 11,
   "id": "f2de2f3b",
   "metadata": {},
   "outputs": [
    {
     "name": "stdout",
     "output_type": "stream",
     "text": [
      "{'Peter': 12, 'Isabel': 13, 'Anna': 11, 'Thomas': 12, 'Bob': 12, 'Joseph': 13, 'Maria': 14, 'Gabriel': 12}\n"
     ]
    }
   ],
   "source": [
    "# Alter\n",
    "def updateAges_(ages, n):\n",
    "    new_ages_ = {}\n",
    "    for word in ages:\n",
    "        new_ages_[word] = ages[word] + n\n",
    "    return new_ages_\n",
    "print(updateAges_(Students,2))"
   ]
  },
  {
   "cell_type": "markdown",
   "id": "1c96a444",
   "metadata": {},
   "source": [
    "Challenge 5: Size of a Dictionary Within a Dictionary\n",
    "\n",
    "Problem Statement#\n",
    "Given a totalStudents function, your task is to calculate how many students are in the students dictionary.\n",
    "\n",
    "Input#\n",
    "A nested dictionary\n",
    "\n",
    "Output#\n",
    "The size of the nested dictionary"
   ]
  },
  {
   "cell_type": "code",
   "execution_count": 12,
   "id": "a82c52c3",
   "metadata": {},
   "outputs": [],
   "source": [
    "def totalStudents(students):\n",
    "    return len(students)\n",
    "    \n",
    "students_nested = {\n",
    "    \"Peter\": {\"age\": 10, \"address\": \"Lisbon\"},\n",
    "    \"Isabel\": {\"age\": 11, \"address\": \"Sesimbra\"},\n",
    "    \"Anna\": {\"age\": 9, \"address\": \"Lisbon\"},\n",
    "}"
   ]
  },
  {
   "cell_type": "code",
   "execution_count": 13,
   "id": "0a6baea1",
   "metadata": {},
   "outputs": [
    {
     "data": {
      "text/plain": [
       "3"
      ]
     },
     "execution_count": 13,
     "metadata": {},
     "output_type": "execute_result"
    }
   ],
   "source": [
    "totalStudents(students_nested)"
   ]
  },
  {
   "cell_type": "markdown",
   "id": "89ddb8c1",
   "metadata": {},
   "source": [
    "Challenge 6: Average Values Within Multiple Dictionaries\n",
    "\n",
    "Problem Statement#\n",
    "Implement a calculateAverageAge function that receives the students dictionary and returns the average age.\n",
    "\n",
    "Input#\n",
    "A nested dictionary\n",
    "\n",
    "Output#\n",
    "The average age of students"
   ]
  },
  {
   "cell_type": "code",
   "execution_count": 14,
   "id": "06961fa7",
   "metadata": {},
   "outputs": [],
   "source": [
    "def calculateAverageAge(students):\n",
    "    sum=0\n",
    "    for i in students:\n",
    "        sum=sum+students[i]['age']\n",
    "    return sum/len(students)"
   ]
  },
  {
   "cell_type": "code",
   "execution_count": 15,
   "id": "8be599e6",
   "metadata": {},
   "outputs": [
    {
     "data": {
      "text/plain": [
       "10.0"
      ]
     },
     "execution_count": 15,
     "metadata": {},
     "output_type": "execute_result"
    }
   ],
   "source": [
    "calculateAverageAge(students_nested)"
   ]
  },
  {
   "cell_type": "markdown",
   "id": "3d44d734",
   "metadata": {},
   "source": [
    "Challenge 7: Keys Matching in Multiple Dictionaries\n",
    "\n",
    "Problem Statement#\n",
    "Implement a find_students function that receives the students dictionary and an address, and returns a list with names of all students whose address matches the address in the argument. For instance, invoking find_students('Lisbon') should return Anna and Peter. Also, note that the names should be printed in alphabetical order.\n",
    "\n",
    "Input#\n",
    "A nested dictionary students and address\n",
    "\n",
    "Output#\n",
    "The keys matching the address in the sorted order, i.e., the name of the students living in a particular area"
   ]
  },
  {
   "cell_type": "code",
   "execution_count": 16,
   "id": "e2bc4497",
   "metadata": {},
   "outputs": [],
   "source": [
    "def find_students(address, students):\n",
    "    st_in_add=[]\n",
    "    for i,values in students.items():\n",
    "        if students[i][\"address\"]==address:\n",
    "            st_in_add.append(i) \n",
    "    return sorted(st_in_add)"
   ]
  },
  {
   "cell_type": "code",
   "execution_count": 17,
   "id": "b73a5cb1",
   "metadata": {},
   "outputs": [
    {
     "data": {
      "text/plain": [
       "['Anna', 'Peter']"
      ]
     },
     "execution_count": 17,
     "metadata": {},
     "output_type": "execute_result"
    }
   ],
   "source": [
    "find_students(\"Lisbon\",students_nested)"
   ]
  },
  {
   "cell_type": "code",
   "execution_count": 18,
   "id": "7b48f7f9",
   "metadata": {},
   "outputs": [],
   "source": [
    "# Alter\n",
    "def find_students_(address, students):\n",
    "    st_in_add_=[]\n",
    "    for keys,values in students.items():\n",
    "        for i in values.values():\n",
    "            if(i==address):\n",
    "                st_in_add_.append(keys)\n",
    "    return sorted(st_in_add_)"
   ]
  },
  {
   "cell_type": "code",
   "execution_count": 19,
   "id": "dfc6e58f",
   "metadata": {},
   "outputs": [
    {
     "data": {
      "text/plain": [
       "['Anna', 'Peter']"
      ]
     },
     "execution_count": 19,
     "metadata": {},
     "output_type": "execute_result"
    }
   ],
   "source": [
    "find_students_(\"Lisbon\",students_nested)"
   ]
  },
  {
   "cell_type": "code",
   "execution_count": 20,
   "id": "2e25ca71",
   "metadata": {},
   "outputs": [
    {
     "data": {
      "text/plain": [
       "'\\nQUIZ\\n\\n1.\\nDict = { \\'Dict1\\': {\\'Fruitname\\': \\'Mango\\', \\'season\\': \\'Summer\\'}, \\n         \\'Dict2\\': {\\'Fruitname\\': \\'Orange\\', \\'season\\': \\'Winter\\'}}\\nprint(Dict[\\'Dict1\\'][\\'Fruitname\\'])\\nprint(Dict[\\'Dict2\\'][\\'season\\'])  \\n\\nOutput-\\nMango\\nWinter\\n\\n2.\\nDict1 = {\\n  \"FruitName\": \"Mango\",\\n  \"season\": \"Spring\",\\n}\\nDict1[\"season\"] = \"Summer\"\\nprint(sorted(Dict1.values()))\\n\\nOutput-\\n[\\'Mango,\\'Summer\\']\\n\\n3.\\nDict1 = {\\n  \"FruitName\": \"Mango\",\\n  \"season\": \"Spring\",\\n}\\nDict1.pop(\"season\")\\nprint(Dict1.values())\\n\\nOutput-\\ndict_values([‘Mango’])\\n\\n4.\\nDict1 = {\\n  \"FruitName\": \"Mango\",\\n  \"season\": \"Spring\",\\n}\\nDict1.clear()\\nprint(Dict1)\\n\\nOutput-\\n{}\\n\\n'"
      ]
     },
     "execution_count": 20,
     "metadata": {},
     "output_type": "execute_result"
    }
   ],
   "source": [
    "\"\"\"\n",
    "QUIZ\n",
    "\n",
    "1.\n",
    "Dict = { 'Dict1': {'Fruitname': 'Mango', 'season': 'Summer'}, \n",
    "         'Dict2': {'Fruitname': 'Orange', 'season': 'Winter'}}\n",
    "print(Dict['Dict1']['Fruitname'])\n",
    "print(Dict['Dict2']['season'])  \n",
    "\n",
    "Output-\n",
    "Mango\n",
    "Winter\n",
    "\n",
    "2.\n",
    "Dict1 = {\n",
    "  \"FruitName\": \"Mango\",\n",
    "  \"season\": \"Spring\",\n",
    "}\n",
    "Dict1[\"season\"] = \"Summer\"\n",
    "print(sorted(Dict1.values()))\n",
    "\n",
    "Output-\n",
    "['Mango,'Summer']\n",
    "\n",
    "3.\n",
    "Dict1 = {\n",
    "  \"FruitName\": \"Mango\",\n",
    "  \"season\": \"Spring\",\n",
    "}\n",
    "Dict1.pop(\"season\")\n",
    "print(Dict1.values())\n",
    "\n",
    "Output-\n",
    "dict_values([‘Mango’])\n",
    "\n",
    "4.\n",
    "Dict1 = {\n",
    "  \"FruitName\": \"Mango\",\n",
    "  \"season\": \"Spring\",\n",
    "}\n",
    "Dict1.clear()\n",
    "print(Dict1)\n",
    "\n",
    "Output-\n",
    "{}\n",
    "\n",
    "\"\"\""
   ]
  },
  {
   "cell_type": "code",
   "execution_count": null,
   "id": "b915ffaa",
   "metadata": {},
   "outputs": [],
   "source": []
  }
 ],
 "metadata": {
  "kernelspec": {
   "display_name": "Python 3",
   "language": "python",
   "name": "python3"
  },
  "language_info": {
   "codemirror_mode": {
    "name": "ipython",
    "version": 3
   },
   "file_extension": ".py",
   "mimetype": "text/x-python",
   "name": "python",
   "nbconvert_exporter": "python",
   "pygments_lexer": "ipython3",
   "version": "3.8.8"
  }
 },
 "nbformat": 4,
 "nbformat_minor": 5
}
