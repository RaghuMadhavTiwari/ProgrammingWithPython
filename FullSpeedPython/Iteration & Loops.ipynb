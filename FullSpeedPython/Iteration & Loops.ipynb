{
 "cells": [
  {
   "cell_type": "markdown",
   "id": "1694f8d9",
   "metadata": {},
   "source": [
    "### Loops"
   ]
  },
  {
   "cell_type": "markdown",
   "id": "4e7f6252",
   "metadata": {},
   "source": [
    "Challenge 1: Sum Elements of a List\n",
    "    \n",
    "Problem Statement#\n",
    "Create a sumList function that receives a list as a parameter and returns the sum of all the elements in the list.\n",
    "\n",
    "Input#\n",
    "A list\n",
    "\n",
    "Output#\n",
    "Sum of elements in the list\n",
    "\n",
    "Sample Input#\n",
    "[1, 2, 3, 4, 5]\n",
    "\n",
    "Sample Output#\n",
    "15"
   ]
  },
  {
   "cell_type": "code",
   "execution_count": 1,
   "id": "7800b98c",
   "metadata": {},
   "outputs": [],
   "source": [
    "def sumList(l):\n",
    "    sum=0\n",
    "    for i in l:\n",
    "        sum=i+sum\n",
    "    return sum"
   ]
  },
  {
   "cell_type": "code",
   "execution_count": 2,
   "id": "a8a91ebd",
   "metadata": {},
   "outputs": [
    {
     "data": {
      "text/plain": [
       "6"
      ]
     },
     "execution_count": 2,
     "metadata": {},
     "output_type": "execute_result"
    }
   ],
   "source": [
    "sumList([1,2,3])"
   ]
  },
  {
   "cell_type": "markdown",
   "id": "71c9e889",
   "metadata": {},
   "source": [
    "Challenge 2: Find Maximum in a List\n",
    "    \n",
    "Problem Statement 1#\n",
    "Create a findMaximum function that receives a list as a parameter and returns the maximum value in the list. As you iterate over the list, you may want to keep track of the current maximum value in order to keep comparing it with the next elements of the list.\n",
    "\n",
    "Input#\n",
    "A list\n",
    "\n",
    "Output#\n",
    "Maximum number in the list\n",
    "\n",
    "Sample Input#\n",
    "[1, 4, 9, 10, 23]\n",
    "\n",
    "Sample Output#\n",
    "max = 23"
   ]
  },
  {
   "cell_type": "code",
   "execution_count": 3,
   "id": "44ef1d46",
   "metadata": {},
   "outputs": [],
   "source": [
    "def findMaximum(list):\n",
    "    max_el=0\n",
    "    for i in list:\n",
    "        if i>max_el:\n",
    "            max_el=i\n",
    "    return max_el"
   ]
  },
  {
   "cell_type": "code",
   "execution_count": 4,
   "id": "6a05fac9",
   "metadata": {},
   "outputs": [
    {
     "data": {
      "text/plain": [
       "11"
      ]
     },
     "execution_count": 4,
     "metadata": {},
     "output_type": "execute_result"
    }
   ],
   "source": [
    "list=[1,2,4,6,3,11,0]\n",
    "findMaximum(list)"
   ]
  },
  {
   "cell_type": "markdown",
   "id": "0d79cf2a",
   "metadata": {},
   "source": [
    "Problem Statement 2#\n",
    "Modify the previous findMaximumValueIndex(list) function such that it returns a list with the first element being the index of the maximum value in the list and the second being the maximum value. Besides keeping the maximum value found so far, you also need to keep the position where it occurred.\n",
    "\n",
    "Input#\n",
    "A list\n",
    "\n",
    "Output#\n",
    "Maximum number and index of the number in the list\n",
    "\n",
    "Sample Input#\n",
    "[1, 4, 23, 10, 9]\n",
    "\n",
    "Sample Output#\n",
    "max = 23\n",
    "\n",
    "index = 2"
   ]
  },
  {
   "cell_type": "code",
   "execution_count": 5,
   "id": "f6e42baf",
   "metadata": {},
   "outputs": [],
   "source": [
    "def findMaximumValueIndex(list):\n",
    "    max_el=list[0]\n",
    "    for i,value in enumerate(list):\n",
    "        if value > max_el:\n",
    "            max_el=value\n",
    "    return [max_el,i]"
   ]
  },
  {
   "cell_type": "code",
   "execution_count": 6,
   "id": "f9f2a1ca",
   "metadata": {},
   "outputs": [
    {
     "data": {
      "text/plain": [
       "[11, 6]"
      ]
     },
     "execution_count": 6,
     "metadata": {},
     "output_type": "execute_result"
    }
   ],
   "source": [
    "findMaximumValueIndex(list)"
   ]
  },
  {
   "cell_type": "markdown",
   "id": "06514ff9",
   "metadata": {},
   "source": [
    "Challenge 3: Reverse a List\n",
    "\n",
    "Problem Statement#\n",
    "Implement a reverse function that receives a list as a parameter and returns the reverse of that list. You may create an empty list and keep adding the values in reversed order as they come from the original list.\n",
    "\n",
    "Input#\n",
    "A list\n",
    "\n",
    "Output#\n",
    "The reverse of a list\n",
    "\n",
    "Sample Input#\n",
    "[1, 2, 3, 4, 5]\n",
    "\n",
    "Sample Output#\n",
    "[5, 4, 3, 2, 1]"
   ]
  },
  {
   "cell_type": "code",
   "execution_count": 7,
   "id": "0b1c5bd1",
   "metadata": {},
   "outputs": [],
   "source": [
    "def reverse(list):\n",
    "    l=len(list)\n",
    "    reversed_list=[None]*l\n",
    "    \n",
    "    for i in list:\n",
    "        l=l-1\n",
    "        reversed_list[l]=i\n",
    "        \n",
    "    return reversed_list"
   ]
  },
  {
   "cell_type": "code",
   "execution_count": 8,
   "id": "6ed1fdf2",
   "metadata": {},
   "outputs": [
    {
     "data": {
      "text/plain": [
       "[0, 11, 3, 6, 4, 2, 1]"
      ]
     },
     "execution_count": 8,
     "metadata": {},
     "output_type": "execute_result"
    }
   ],
   "source": [
    "list=[1,2,4,6,3,11,0]\n",
    "reverse(list)"
   ]
  },
  {
   "cell_type": "markdown",
   "id": "069f038f",
   "metadata": {},
   "source": [
    "Challenge 4: Check If List Is Sorted\n",
    "    \n",
    "Problem Statement#\n",
    "Make an isSorted function that receives a list as a ​parameter and returns true if the list is sorted in ascending order.\n",
    "\n",
    "For instance, [1, 2, 2, 3] is ordered while [1, 2, 3, 2] is not.\n",
    "\n",
    "Input#\n",
    "A list\n",
    "\n",
    "Output#\n",
    "True if the list is sorted and False otherwise"
   ]
  },
  {
   "cell_type": "code",
   "execution_count": 9,
   "id": "6986a79a",
   "metadata": {},
   "outputs": [],
   "source": [
    "def isSorted(list):\n",
    "    l=len(list)\n",
    "    flag=0\n",
    "    i=1\n",
    "    \n",
    "    while(i<l):\n",
    "        if (list[i]<=list[i-1]):\n",
    "            flag=1           \n",
    "        i+=1\n",
    "    \n",
    "    if (flag==1):\n",
    "        return False\n",
    "    else:\n",
    "        return True\n",
    "#If the flag is false, a list is sorted and vice versa."
   ]
  },
  {
   "cell_type": "code",
   "execution_count": 10,
   "id": "fbc8947e",
   "metadata": {},
   "outputs": [
    {
     "data": {
      "text/plain": [
       "False"
      ]
     },
     "execution_count": 10,
     "metadata": {},
     "output_type": "execute_result"
    }
   ],
   "source": [
    "isSorted(list)"
   ]
  },
  {
   "cell_type": "code",
   "execution_count": 11,
   "id": "67c8c23d",
   "metadata": {},
   "outputs": [
    {
     "data": {
      "text/plain": [
       "True"
      ]
     },
     "execution_count": 11,
     "metadata": {},
     "output_type": "execute_result"
    }
   ],
   "source": [
    "isSorted([1,2,3])"
   ]
  },
  {
   "cell_type": "markdown",
   "id": "826e7f30",
   "metadata": {},
   "source": [
    "Challenge 5: Find Duplicates in a List\n",
    "\n",
    "Problem Statement#\n",
    "Implement the hasDuplicates function which verifies if a list has duplicate values.\n",
    "\n",
    "Input#\n",
    "A list\n",
    "\n",
    "Output#\n",
    "True if the list has duplicates and False otherwise"
   ]
  },
  {
   "cell_type": "code",
   "execution_count": 12,
   "id": "aaea51de",
   "metadata": {},
   "outputs": [],
   "source": [
    "def hasDuplicates(list):\n",
    "    flag=0\n",
    "    \n",
    "    for i in range(0,len(list)):\n",
    "        for j in range(i+1,len(list)):\n",
    "            if list[i]==list[j]:\n",
    "                flag=1\n",
    "    if flag==0:\n",
    "        return False\n",
    "    else:\n",
    "        return True"
   ]
  },
  {
   "cell_type": "code",
   "execution_count": 13,
   "id": "2f0e33a1",
   "metadata": {},
   "outputs": [
    {
     "data": {
      "text/plain": [
       "True"
      ]
     },
     "execution_count": 13,
     "metadata": {},
     "output_type": "execute_result"
    }
   ],
   "source": [
    "list=[1,2,2,9]\n",
    "hasDuplicates(list)"
   ]
  },
  {
   "cell_type": "markdown",
   "id": "05ded82e",
   "metadata": {},
   "source": [
    "Challenge 6: Print Even/Odd Numbers in Descending Order\n",
    "\n",
    "Problem Statement#\n",
    "Implement a printEvenOdd function that receives a number n as parameter and prints–in decreasing order–which numbers are even and which are odd until it reaches 0. For instance, on calling printEvenOdd(10) it prints\n",
    "\n",
    "Input#\n",
    "a number\n",
    "\n",
    "Output#\n",
    "        Even number: 10\n",
    "        Odd number: 9\n",
    "        Even number: 8\n",
    "        Odd number: 7\n",
    "        Even number: 6\n",
    "        Odd number: 5\n",
    "        Even number: 4\n",
    "        Odd number: 3\n",
    "        Even number: 2\n",
    "        Odd number: 1"
   ]
  },
  {
   "cell_type": "code",
   "execution_count": 14,
   "id": "e70c9c5b",
   "metadata": {},
   "outputs": [],
   "source": [
    "def printEvenOdd(n):\n",
    "    while(n>0):\n",
    "        if n%2==0:\n",
    "            print(\"Even number:\",n)\n",
    "        else:\n",
    "            print(\"Odd number:\",n)\n",
    "        n=n-1"
   ]
  },
  {
   "cell_type": "code",
   "execution_count": 15,
   "id": "2fa60e63",
   "metadata": {},
   "outputs": [
    {
     "name": "stdout",
     "output_type": "stream",
     "text": [
      "Odd number: 5\n",
      "Even number: 4\n",
      "Odd number: 3\n",
      "Even number: 2\n",
      "Odd number: 1\n"
     ]
    }
   ],
   "source": [
    "printEvenOdd(5)"
   ]
  },
  {
   "cell_type": "code",
   "execution_count": 16,
   "id": "b16fbe3c",
   "metadata": {},
   "outputs": [
    {
     "data": {
      "text/plain": [
       "'\\nQuiz:\\n    \\n1. \\nfor a in \"Python\":\\n      print (a)\\n      \\nOutPut-\\nP\\ny\\nt\\nh\\no\\nn\\n\\n\\n2.\\nLanguages = [\"Python\", \"Java\", \"R\"]\\nfor x in Languages:\\n  if x == \"Java\":\\n    break\\n  print(x) \\n\\nOutPut-\\nPython\\n\\n3.\\ni = 1\\nwhile i < 7:\\n  print(i)\\n  if (i == 3):\\n    break\\n  i += 1\\n  \\nOutput-\\n1\\n2\\n3\\n\\n4.\\ni = 1\\nwhile i <= 7:\\n  i += 1\\n  if (i == 3):\\n    continue\\n  print(i)\\n\\nOutput-\\n2\\n4\\n5\\n6\\n7\\n8\\n'"
      ]
     },
     "execution_count": 16,
     "metadata": {},
     "output_type": "execute_result"
    }
   ],
   "source": [
    "'''\n",
    "Quiz:\n",
    "    \n",
    "1. \n",
    "for a in \"Python\":\n",
    "      print (a)\n",
    "      \n",
    "OutPut-\n",
    "P\n",
    "y\n",
    "t\n",
    "h\n",
    "o\n",
    "n\n",
    "\n",
    "\n",
    "2.\n",
    "Languages = [\"Python\", \"Java\", \"R\"]\n",
    "for x in Languages:\n",
    "  if x == \"Java\":\n",
    "    break\n",
    "  print(x) \n",
    "\n",
    "OutPut-\n",
    "Python\n",
    "\n",
    "3.\n",
    "i = 1\n",
    "while i < 7:\n",
    "  print(i)\n",
    "  if (i == 3):\n",
    "    break\n",
    "  i += 1\n",
    "  \n",
    "Output-\n",
    "1\n",
    "2\n",
    "3\n",
    "\n",
    "4.\n",
    "i = 1\n",
    "while i <= 7:\n",
    "  i += 1\n",
    "  if (i == 3):\n",
    "    continue\n",
    "  print(i)\n",
    "\n",
    "Output-\n",
    "2\n",
    "4\n",
    "5\n",
    "6\n",
    "7\n",
    "8\n",
    "'''"
   ]
  },
  {
   "cell_type": "code",
   "execution_count": null,
   "id": "adca88b7",
   "metadata": {},
   "outputs": [],
   "source": []
  }
 ],
 "metadata": {
  "kernelspec": {
   "display_name": "Python 3",
   "language": "python",
   "name": "python3"
  },
  "language_info": {
   "codemirror_mode": {
    "name": "ipython",
    "version": 3
   },
   "file_extension": ".py",
   "mimetype": "text/x-python",
   "name": "python",
   "nbconvert_exporter": "python",
   "pygments_lexer": "ipython3",
   "version": "3.8.8"
  }
 },
 "nbformat": 4,
 "nbformat_minor": 5
}
