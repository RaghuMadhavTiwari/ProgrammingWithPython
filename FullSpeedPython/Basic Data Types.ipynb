{
 "cells": [
  {
   "cell_type": "markdown",
   "id": "615903bd",
   "metadata": {},
   "source": [
    "### Numbers"
   ]
  },
  {
   "cell_type": "code",
   "execution_count": 1,
   "id": "59b99a62",
   "metadata": {},
   "outputs": [
    {
     "name": "stdout",
     "output_type": "stream",
     "text": [
      "1.5\n",
      "1\n",
      "1\n",
      "9\n"
     ]
    }
   ],
   "source": [
    "'''\n",
    "Challenge 1: Mathematical Calculations\n",
    "\n",
    "Problem Statement: \n",
    "Given a MathOp() function, try the following mathematical calculations and print the output:\n",
    "(3 / 2)\n",
    "(3 // 2)\n",
    "(3 % 2)\n",
    "(3**2)\n",
    "\n",
    "The expected output:\n",
    "1.5\n",
    "1\n",
    "1\n",
    "9\n",
    "'''\n",
    "\n",
    "def MathOp():\n",
    "    a,b=3,2\n",
    "    print(a/b)\n",
    "    print(a//b)\n",
    "    print(a%b)\n",
    "    print(a**b)\n",
    "\n",
    "MathOp()"
   ]
  },
  {
   "cell_type": "code",
   "execution_count": 2,
   "id": "72c82f74",
   "metadata": {},
   "outputs": [
    {
     "data": {
      "text/plain": [
       "0"
      ]
     },
     "execution_count": 2,
     "metadata": {},
     "output_type": "execute_result"
    }
   ],
   "source": [
    "'''\n",
    "Challenge 2: Check Parity of a Number\n",
    "Parity is a term to express if a given integer is even or odd.\n",
    "\n",
    "Problem Statement#\n",
    "Given a checkParity(n) function, write code to determine if a given number n is even or odd. Think of this as a function that returns 0 if the number is even, and 1 if it is odd. You have been given some starter code where the function and return statement have already been written, so don’t worry about any Python-specific details about functions; just implement the function logic!\n",
    "\n",
    "Input#\n",
    "A number\n",
    "\n",
    "Output#\n",
    "The parity of the number\n",
    "\n",
    "Sample Input#\n",
    "4\n",
    "\n",
    "Sample Output#\n",
    "0\n",
    "\n",
    "'''\n",
    "def checkParity(n):\n",
    "    ## Write your code here\n",
    "    return n%2\n",
    "     \n",
    "checkParity(4)"
   ]
  },
  {
   "cell_type": "code",
   "execution_count": 3,
   "id": "5276bf68",
   "metadata": {},
   "outputs": [
    {
     "data": {
      "text/plain": [
       "True"
      ]
     },
     "execution_count": 3,
     "metadata": {},
     "output_type": "execute_result"
    }
   ],
   "source": [
    "\"\"\"\n",
    "Challenge 3: Find Values Within a Range\n",
    "Problem Statement#\n",
    "Given an inRange(x,y) function, write a method that determines whether a given pair (x, y) falls in the range (x < 1/3 < y). Essentially, you’ll be implementing the body of a function that takes in two numbers x and y and returns True if x < 1/3 < y; otherwise, it returns False.\n",
    "\n",
    "Input#\n",
    "Two numbers, x and y\n",
    "\n",
    "Output#\n",
    "True if x and y are in the range and False otherwise.\n",
    "\n",
    "Sample Input#\n",
    "x = 2, y = 3\n",
    "\n",
    "Sample Output#\n",
    "False\n",
    "\n",
    "\"\"\"\n",
    "\n",
    "def inRange(x, y):\n",
    "    return x<(1/3)<y\n",
    "\n",
    "\n",
    "inRange(0,3)"
   ]
  },
  {
   "cell_type": "markdown",
   "id": "d7a6969a",
   "metadata": {},
   "source": [
    "### Strings"
   ]
  },
  {
   "cell_type": "code",
   "execution_count": 4,
   "id": "10ad40c1",
   "metadata": {},
   "outputs": [
    {
     "data": {
      "text/plain": [
       "['aaabbbcccddd', 12]"
      ]
     },
     "execution_count": 4,
     "metadata": {},
     "output_type": "execute_result"
    }
   ],
   "source": [
    "\"\"\"\n",
    "Challenge 4: String Transformation\n",
    "\n",
    "Problem Statement#\n",
    "Given a getStr() function, write the necessary sequence of operations to transform the string (containing three literals) in such a way that every literal is tripled​ respectively.\n",
    "\n",
    "Input#\n",
    "A string\n",
    "\n",
    "Output#\n",
    "Triple of every string literal\n",
    "\n",
    "Sample Input#\n",
    "abc\n",
    "\n",
    "Sample Output#\n",
    "aaabbbccc\n",
    "\"\"\"\n",
    "\n",
    "def getStr(s):\n",
    "    new_s=\"\"\n",
    "    strlen = 0\n",
    "    for i in range(0,len(s)):\n",
    "        x=s[i:i+1]\n",
    "        new_s+=x*3\n",
    "    strlen=len(new_s)    \n",
    "    return [new_s, strlen]\n",
    "\n",
    "getStr(\"abcd\")"
   ]
  },
  {
   "cell_type": "code",
   "execution_count": 5,
   "id": "f241579f",
   "metadata": {},
   "outputs": [
    {
     "data": {
      "text/plain": [
       "[2, 3]"
      ]
     },
     "execution_count": 5,
     "metadata": {},
     "output_type": "execute_result"
    }
   ],
   "source": [
    "\"\"\"\n",
    "Challenge 5: Find Index of a Specific Value in a String\n",
    "\n",
    "Problem Statement#\n",
    "Given a string, use a findOccurence(s) function that allows you to find the first occurrences of \"b\" and \"ccc\"​ in the string.\n",
    "\n",
    "Input#\n",
    "A string\n",
    "\n",
    "Output#\n",
    "The first occurrence of “b” and “ccc” in the string\n",
    "\n",
    "Sample Input#\n",
    "aaabbbccc\n",
    "\n",
    "Sample Output#\n",
    "[3, 6]\n",
    "\n",
    "\"\"\"\n",
    "def findOccurence(s):\n",
    "    a,b=0,0\n",
    "    a=s.find(\"b\")\n",
    "    b=s.find(\"ccc\")\n",
    "    return [a, b]\n",
    "\"\"\"find() method finds the first occurrence of the specified value.\n",
    "The find() method returns -1 if the value is not found.\n",
    "The find() method is almost the same as the index() method, the only difference is that the index() method raises an exception if the value is not found. \"\"\"\n",
    "\n",
    "findOccurence(\"aabcccc\")"
   ]
  },
  {
   "cell_type": "code",
   "execution_count": 6,
   "id": "de43a17d",
   "metadata": {},
   "outputs": [
    {
     "data": {
      "text/plain": [
       "[2, 4]"
      ]
     },
     "execution_count": 6,
     "metadata": {},
     "output_type": "execute_result"
    }
   ],
   "source": [
    "# Alternate \n",
    "def findOccurence(s):\n",
    "    a,b=0,0\n",
    "    for i in range(0,len(s)):\n",
    "        if s[i]=='b':\n",
    "            a=i\n",
    "            break\n",
    "    for j in range(0,len(s)):   \n",
    "        if (s[j-2]==\"c\") and (s[j-1]==\"c\") and (s[j]==\"c\"):\n",
    "            b=j-2\n",
    "    return [a, b]\n",
    "\n",
    "findOccurence(\"aabcccc\")"
   ]
  },
  {
   "cell_type": "code",
   "execution_count": 7,
   "id": "251a4988",
   "metadata": {},
   "outputs": [
    {
     "data": {
      "text/plain": [
       "['AAHNK', 'aahnk']"
      ]
     },
     "execution_count": 7,
     "metadata": {},
     "output_type": "execute_result"
    }
   ],
   "source": [
    "'''\n",
    "Challenge 6: Lowercase to Uppercase\n",
    "\n",
    "Problem Statement#\n",
    "Given a function changeCase(s), the task is to convert the strings from upper case to lower case.\n",
    "\n",
    "Input#\n",
    "A string in upper case\n",
    "\n",
    "Output#\n",
    "Change case of the string in lower case\n",
    "\n",
    "Sample Input#\n",
    "“AAA BBB CCC”\n",
    "\n",
    "Sample Output#\n",
    "“aaa bbb ccc”\n",
    "'''\n",
    "\n",
    "def changeCase(s):\n",
    "    a=s.upper()\n",
    "    b=s.lower()\n",
    "    return [a, b]\n",
    "\n",
    "changeCase(\"aaHnk\")"
   ]
  },
  {
   "cell_type": "code",
   "execution_count": 8,
   "id": "60fd46ef",
   "metadata": {},
   "outputs": [
    {
     "data": {
      "text/plain": [
       "'\\n**Quick Quiz on Basic Data Types**\\n\\nWhat is the output of the following code\\nprint(\"Hello World\" + \"Hello World\" + \"Hello World\" * 2)\\n\\nHow can you calculate the length of a string str in python?\\n\\n'"
      ]
     },
     "execution_count": 8,
     "metadata": {},
     "output_type": "execute_result"
    }
   ],
   "source": [
    "\"\"\"\n",
    "**Quick Quiz on Basic Data Types**\n",
    "\n",
    "What is the output of the following code\n",
    "print(\"Hello World\" + \"Hello World\" + \"Hello World\" * 2)\n",
    "\n",
    "How can you calculate the length of a string str in python?\n",
    "\n",
    "\"\"\""
   ]
  },
  {
   "cell_type": "code",
   "execution_count": null,
   "id": "4a071384",
   "metadata": {},
   "outputs": [],
   "source": []
  }
 ],
 "metadata": {
  "kernelspec": {
   "display_name": "Python 3",
   "language": "python",
   "name": "python3"
  },
  "language_info": {
   "codemirror_mode": {
    "name": "ipython",
    "version": 3
   },
   "file_extension": ".py",
   "mimetype": "text/x-python",
   "name": "python",
   "nbconvert_exporter": "python",
   "pygments_lexer": "ipython3",
   "version": "3.8.8"
  }
 },
 "nbformat": 4,
 "nbformat_minor": 5
}
